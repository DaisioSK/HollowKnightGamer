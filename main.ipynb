{
 "cells": [
  {
   "cell_type": "code",
   "execution_count": null,
   "id": "d77be8d7-b2c8-4ce2-8103-3f4575cc75a2",
   "metadata": {},
   "outputs": [],
   "source": [
    "import pandas as pd\n",
    "import logging\n",
    "from scripts.capture import capture_screen\n",
    "from scripts.keyboard_logger import log_key\n",
    "from scripts.env import HollowKnightEnv\n",
    "from stable_baselines3 import PPO\n",
    "\n",
    "logging.basicConfig(level=logging.INFO, format='%(asctime)s - %(message)s')\n",
    "\n",
    "def main():\n",
    "    logging.info(\"Initializing Hollow Knight AI Project\")\n",
    "\n",
    "    # 环境初始化\n",
    "    env = HollowKnightEnv()\n",
    "\n",
    "    # 模型加载或创建\n",
    "    logging.info(\"Loading or initializing PPO model\")\n",
    "    model = PPO(\"CnnPolicy\", env, verbose=1)\n",
    "\n",
    "    # 模型训练\n",
    "    logging.info(\"Starting training\")\n",
    "    model.learn(total_timesteps=100000)\n",
    "    model.save(\"models/hollow_knight_model\")\n",
    "\n",
    "    logging.info(\"Training completed and model saved\")\n",
    "\n",
    "if __name__ == \"__main__\":\n",
    "    main()"
   ]
  }
 ],
 "metadata": {
  "kernelspec": {
   "display_name": "Python 3 (ipykernel)",
   "language": "python",
   "name": "python3"
  },
  "language_info": {
   "codemirror_mode": {
    "name": "ipython",
    "version": 3
   },
   "file_extension": ".py",
   "mimetype": "text/x-python",
   "name": "python",
   "nbconvert_exporter": "python",
   "pygments_lexer": "ipython3",
   "version": "3.9.2rc1"
  }
 },
 "nbformat": 4,
 "nbformat_minor": 5
}
